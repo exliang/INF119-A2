{
 "cells": [
  {
   "cell_type": "markdown",
   "id": "3a2d39d6",
   "metadata": {},
   "source": [
    "Team Members:\n",
    "- Emily Liang 79453973\n",
    "- \n",
    "- \n",
    "-"
   ]
  },
  {
   "cell_type": "code",
   "execution_count": null,
   "id": "b38d5258",
   "metadata": {},
   "outputs": [],
   "source": [
    "# Install required packages\n",
    "%pip install gradio unstructured sentence-transformers\n",
    "%pip install google.generativeai     # for using local IDE"
   ]
  },
  {
   "cell_type": "code",
   "execution_count": null,
   "id": "3c3e3fd1",
   "metadata": {},
   "outputs": [],
   "source": [
    "import sys\n",
    "# print(sys.executable)\n",
    "!{sys.executable} -m pip install google-generativeai"
   ]
  },
  {
   "cell_type": "code",
   "execution_count": 1,
   "id": "ee59c4f7",
   "metadata": {},
   "outputs": [],
   "source": [
    "# Import necessary libraries\n",
    "import os\n",
    "import time\n",
    "from PIL import Image\n",
    "import google.generativeai as genai"
   ]
  },
  {
   "cell_type": "code",
   "execution_count": null,
   "id": "7385ca62",
   "metadata": {},
   "outputs": [],
   "source": [
    "from google.generativeai import types\n",
    "import os\n",
    "\n",
    "# For local environment, directly put your API key here\n",
    "api_key = os.getenv(\"GOOGLE_API_KEY\")\n",
    "genai.configure(api_key=api_key)\n",
    "client = genai.GenerativeModel(model_name=\"gemini-2.5-flash-lite\")"
   ]
  }
 ],
 "metadata": {
  "kernelspec": {
   "display_name": "Python 3",
   "language": "python",
   "name": "python3"
  },
  "language_info": {
   "codemirror_mode": {
    "name": "ipython",
    "version": 3
   },
   "file_extension": ".py",
   "mimetype": "text/x-python",
   "name": "python",
   "nbconvert_exporter": "python",
   "pygments_lexer": "ipython3",
   "version": "3.12.2"
  }
 },
 "nbformat": 4,
 "nbformat_minor": 5
}
